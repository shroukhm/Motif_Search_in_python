{
  "nbformat": 4,
  "nbformat_minor": 0,
  "metadata": {
    "colab": {
      "provenance": []
    },
    "kernelspec": {
      "name": "python3",
      "display_name": "Python 3"
    },
    "language_info": {
      "name": "python"
    }
  },
  "cells": [
    {
      "cell_type": "code",
      "execution_count": 1,
      "metadata": {
        "id": "73acB2KL0Hmw"
      },
      "outputs": [],
      "source": [
        "from itertools import product  # Import product function from itertools for generating Cartesian product\n",
        "import random  # Import random module for generating random DNA sequences"
      ]
    },
    {
      "cell_type": "markdown",
      "source": [
        "###Helper functions"
      ],
      "metadata": {
        "id": "mePEH8K61oui"
      }
    },
    {
      "cell_type": "code",
      "source": [
        "# Function to read input from a file.\n",
        "def read_file(file_name):\n",
        "    print(\"Reading input from the file...\")\n",
        "    with open(file_name, 'r') as file:\n",
        "        t, n, l = map(int, file.readline().split())\n",
        "        # Read DNA sequences from the file, capitalize, and strip whitespace\n",
        "        DNA = [file.readline().upper().strip() for _ in range(t)]\n",
        "    print(\"Found \", t, \"sequences of length \", n, \"with motif length \", l, \" .\")\n",
        "    return t, n, l, DNA\n",
        "\n",
        "#Function to generate random dna sequences\n",
        "def generate_random_dna(t, n):\n",
        "    nucleotides = ['A', 'C', 'G', 'T']\n",
        "    DNA = [''.join(random.choices(nucleotides, k=n)) for _ in range(t)]\n",
        "    print(\"Randomly generated sequences :\")\n",
        "    for i, seq in enumerate(DNA, start=1):\n",
        "        print(f\"Sequence {i}: {seq}\")\n",
        "    return DNA"
      ],
      "metadata": {
        "id": "vd2IW7Dh1v9I"
      },
      "execution_count": 2,
      "outputs": []
    },
    {
      "cell_type": "markdown",
      "source": [
        "## Brute Force Motif Search"
      ],
      "metadata": {
        "id": "5iMVA0qE2Mj8"
      }
    },
    {
      "cell_type": "code",
      "source": [
        "# Function to calculate the score of a motif given a set of sequences and what is the motif.\n",
        "def score(s, DNA, l):\n",
        "    t = len(DNA)\n",
        "    motif = ''\n",
        "    total_score = 0\n",
        "    # Create a count matrix to store nucleotide counts for each position in the motif\n",
        "    count_matrix = [{'A': 0, 'C': 0, 'G': 0, 'T': 0} for _ in range(l)]\n",
        "    for i in range(l):\n",
        "        # Iterate over each DNA sequence (t)\n",
        "        for j in range(t):\n",
        "            # Check if the current position is within the length of the sequence\n",
        "            if (s[j] - 1) + i < len(DNA[j]):\n",
        "                # Get the nucleotide at the current position in the sequence\n",
        "                nucleotide = DNA[j][(s[j] - 1) + i]\n",
        "                # Increment the count of the nucleotide at the corresponding position in the count matrix\n",
        "                count_matrix[i][nucleotide] += 1\n",
        "    # Calculate the consensus motif based on the most frequent nucleotide at each position\n",
        "    for counts in count_matrix:\n",
        "        # Find the nucleotide with the highest count\n",
        "        max_nucleotide = max(counts, key=counts.get)\n",
        "        motif += max_nucleotide\n",
        "        # Get the count of the most frequent nucleotide\n",
        "        position_strength = counts[max_nucleotide]\n",
        "        total_score += position_strength\n",
        "    return total_score, motif\n",
        "\n",
        "\n",
        "def brute_force_motif_search(DNA, t, n, l):\n",
        "    print(\"Brute Force Algorithm :\")\n",
        "    best_score = float('-inf')\n",
        "    best_motif = \"\"\n",
        "    best_position = ()\n",
        "    # Generate all possible combinations of starting positions\n",
        "    for s in product(range(1, n - l + 2), repeat=t):\n",
        "        current_score, motif = score(s, DNA, l)\n",
        "        # Update the best motif and score if the current motif has a higher score\n",
        "        if current_score > best_score:\n",
        "            best_score = current_score\n",
        "            best_motif = motif\n",
        "            best_position = s\n",
        "    print(\"Motif found:\", best_motif)\n",
        "    print(\"Score:\", best_score)\n",
        "    print(\"Position:\", best_position, \"\\n\")"
      ],
      "metadata": {
        "id": "IhRfHQT52SOO"
      },
      "execution_count": 3,
      "outputs": []
    },
    {
      "cell_type": "markdown",
      "source": [
        "## Brute Force Median String Search"
      ],
      "metadata": {
        "id": "7coJ2j3s4ABw"
      }
    },
    {
      "cell_type": "code",
      "source": [
        "# Calculates the Hamming distance between two strings assuming they are equal in length.\n",
        "def hamming_distance(str1, str2):\n",
        "    distance = 0\n",
        "    for i in range(len(str1)):\n",
        "        if str1[i] != str2[i]:  # If characters at the same index are different, increment distance.\n",
        "            distance += 1\n",
        "    return distance\n",
        "\n",
        " # Computes the total Hamming distance between a word and a set of DNA sequences.\n",
        "def total_hamming_distance(word, DNA):\n",
        "\n",
        "    total_distance = 0\n",
        "    for sequence in DNA:\n",
        "        total_distance += hamming_distance(word, sequence)  # Accumulate the Hamming distance for each sequence.\n",
        "    return total_distance\n",
        "\n",
        " # Implements a brute-force algorithm to find the median string—a short DNA sequence that minimizes\n",
        "def brute_force_median_string_search(DNA,l):\n",
        "\n",
        "    # the total Hamming distance to a set of DNA sequences.\n",
        "    print(\"Brute Force Median Algorithm :\")\n",
        "    # Generate all possible l-mers substrings using product function\n",
        "    l_mers = [''.join(pattern) for pattern in product('ACTG', repeat=l)]\n",
        "\n",
        "    # Initialize best values\n",
        "    best_word = 'A'\n",
        "    best_distance = float('inf')  # Positive infinity\n",
        "\n",
        "    # Iterate through all l-mers and find the one with the minimum total distance\n",
        "    for word in l_mers:\n",
        "        distance = total_hamming_distance(word, DNA)\n",
        "        if distance < best_distance:\n",
        "            best_distance = distance\n",
        "            best_word = word\n",
        "\n",
        "    print(\"Median string found:\", best_word)\n",
        "    print(\"Hamming distance:\", best_distance)\n"
      ],
      "metadata": {
        "id": "k2KOH8oS4Feq"
      },
      "execution_count": 4,
      "outputs": []
    },
    {
      "cell_type": "markdown",
      "source": [
        "## Main Brute Force"
      ],
      "metadata": {
        "id": "We6Tf0Oz6gVi"
      }
    },
    {
      "cell_type": "code",
      "source": [
        "print(\"Motif Finding Problem \\n\")\n",
        "print(\"Choose Input method :\")\n",
        "print(\"1. Read from file(rawDNA.txt)\")\n",
        "print(\"2. Generate random sequences \\n\")\n",
        "choice = input(\"Enter your choice : \")\n",
        "print()\n",
        "if choice == \"1\":\n",
        "    filename = \"rawDNA.txt\"\n",
        "    t, n, l, DNA = read_file(filename)  # Read DNA sequences from the file\n",
        "    print()\n",
        "elif choice == \"2\":\n",
        "    l = int(input(\"Enter the length of the pattern to be found (L): \"))\n",
        "    t = int(input(\"Enter the number of sequences (t): \"))\n",
        "    n = int(input(\"Enter the length of each sequence (n): \"))\n",
        "    DNA = generate_random_dna(t, n)\n",
        "    print(\"\\n\")\n",
        "else:\n",
        "    print(\"Invalid choice.\")\n",
        "\n",
        "brute_force_motif_search(DNA, t, n, l)\n",
        "brute_force_median_string_search(DNA, l)\n"
      ],
      "metadata": {
        "colab": {
          "base_uri": "https://localhost:8080/"
        },
        "id": "nd7aAoG-6o5T",
        "outputId": "7e9c83cf-ff7a-4e9a-f280-206e0d2dd49d"
      },
      "execution_count": 13,
      "outputs": [
        {
          "output_type": "stream",
          "name": "stdout",
          "text": [
            "Motif Finding Problem \n",
            "\n",
            "Choose Input method :\n",
            "1. Read from file(rawDNA.txt)\n",
            "2. Generate random sequences \n",
            "\n",
            "Enter your choice : 1\n",
            "\n",
            "Reading input from the file...\n",
            "Found  3 sequences of length  10 with motif length  4  .\n",
            "\n",
            "Brute Force Algorithm :\n",
            "Motif found: TACG\n",
            "Score: 10\n",
            "Position: (3, 3, 1) \n",
            "\n",
            "Brute Force Median Algorithm :\n",
            "Median string found: CGTA\n",
            "Hamming distance: 6\n"
          ]
        }
      ]
    }
  ]
}